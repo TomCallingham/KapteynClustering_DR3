{
 "cells": [
  {
   "cell_type": "markdown",
   "id": "9a1f788c",
   "metadata": {},
   "source": [
    "# Module\n",
    "Run \"pip install -e .\" in the KapteynClustering_DR3/KapteynClustering director to install the module."
   ]
  },
  {
   "cell_type": "markdown",
   "id": "9271309c-a61d-4aa8-bc99-a88163b18617",
   "metadata": {},
   "source": [
    "## KapteynClustering Module\n",
    "Install KapteynClustring by navigating to the folder and running:  \n",
    "\"pip install -e .\""
   ]
  },
  {
   "cell_type": "markdown",
   "id": "c6bba446",
   "metadata": {},
   "source": [
    "# Paramaters\n",
    "params are given in .yaml file. "
   ]
  },
  {
   "cell_type": "markdown",
   "id": "b4cc7e05",
   "metadata": {},
   "source": [
    "# Running From the Terminal\n",
    "Run:  \n",
    "\"python Run_Script.py params.yaml\" \n",
    "\n",
    "This will run pipeline for the steps in the steps array. For every step this would be:\n",
    "\n",
    "[sample, artificial, linkage, significance, label]\n",
    "\n",
    "These steps are also described in individual notebooks, linked below."
   ]
  },
  {
   "cell_type": "markdown",
   "id": "f26dcdd2",
   "metadata": {},
   "source": [
    "# NOTEBOOKS\n",
    "\n",
    "## Initial Dataset and selections\n",
    "[Initial Sample Data](./C1_Data.ipynb)\n",
    "\n",
    "## Create Artifical DataSet\n",
    "[Artificial Data ](./C2_Artificial_Data.ipynb)\n",
    "\n",
    "## Single Linkage Cluster\n",
    "[Single_Linkage](./C3_Single_Linkage.ipynb)\n",
    "\n",
    "## Calculate Significance\n",
    "[Find Significance](./C4_PCA_Analysis.ipynb)\n",
    "\n",
    "## Significance Analysis\n",
    "[Find how Signficant Clusters Are](./C5_Significance_Analysis.ipynb)"
   ]
  },
  {
   "cell_type": "markdown",
   "id": "72a1a43d",
   "metadata": {},
   "source": [
    "# Running Kapetyn Clustering\n",
    "Original implentation by Sofie Lövdal (described in Lövdal et al. (2021)).\n",
    "Notebooks below take through the entire process\n",
    "#  OLD\n",
    "This notebook takes a Gaia-style catalogue and performs clustering in integral of motion space according to Lövdal et al. (2021).\n",
    "Requires some libraries, most notably vaex, numpy and matplotlib. After changing the variable \"catalogue_path\" to indicate where your star catalogue is stored, you should be able to run the cells in order, and obtain a catalogue containing labels for significant clusters in integral of motion space.\n",
    "\n",
    "\n",
    "The input catalogue should contain heliocentric xyz coordinates and xyz velocity components, where necessary quality cuts has been readily imposed. The input should contain halo stars and a little bit more, as we use vtoomre>180 when scrambling velocity components to obtain an artificial reference representation of a halo.\n"
   ]
  },
  {
   "cell_type": "code",
   "execution_count": null,
   "id": "90d4c5ee",
   "metadata": {},
   "outputs": [],
   "source": [
    "\n",
    "# KapteynClustering\n",
    "## KapteynClustering Module\n",
    "\n",
    "Install KapteynClustring by navigating to the folder and running:  \n",
    "\"pip install -e .\"\n",
    "\n",
    "# NOTEBOOKS\n",
    "\n",
    "## Initial Dataset and selections\n",
    "[Initial Sample Data](./C1_Data.ipynb)\n",
    "\n",
    "## Create Artifical DataSet\n",
    "[Artificial Data ](./C2_Artificial_Data.ipynb)\n",
    "\n",
    "## Single Linkage Cluster\n",
    "[Single_Linkage](./C3_Single_Linkage.ipynb)\n",
    "\n",
    "## Calculate Significance\n",
    "[Find Significance](./C4_PCA_Analysis.ipynb)\n",
    "\n",
    "## Significance Analysis\n",
    "[Find how Signficant Clusters Are](./C5_Significance_Analysis.ipynb)\n",
    "\n",
    "# Repository\n",
    "## Jupytext\n",
    "Uses jupytext to save notebook conflict heartache.\n",
    "Run .git_scripts/setup.sh to include a post merge hook that creates missing notebooks."
   ]
  }
 ],
 "metadata": {
  "jupytext": {
   "cell_metadata_filter": "-all",
   "formats": "ipynb,md",
   "hide_notebook_metadata": true,
   "notebook_metadata_filter": "all"
  },
  "kernelspec": {
   "display_name": "Python 3 (ipykernel)",
   "language": "python",
   "name": "python3"
  },
  "language_info": {
   "codemirror_mode": {
    "name": "ipython",
    "version": 3
   },
   "file_extension": ".py",
   "mimetype": "text/x-python",
   "name": "python",
   "nbconvert_exporter": "python",
   "pygments_lexer": "ipython3",
   "version": "3.10.4"
  }
 },
 "nbformat": 4,
 "nbformat_minor": 5
}
